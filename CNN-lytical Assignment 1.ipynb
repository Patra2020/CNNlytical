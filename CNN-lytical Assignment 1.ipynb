{
  "cells": [
    {
      "cell_type": "markdown",
      "metadata": {
        "id": "RksWtNuHg9Rb"
      },
      "source": [
        "# CNN-lytical Assignment-1\n",
        "*  In this assignment, we will build a classifier for MNIST from scratch using just [NumPy](https://numpy.org/)\n",
        "\n",
        "*  [MNIST](http://yann.lecun.com/exdb/mnist/) dataset contains images of handwritten digits of size 28x28\n",
        "\n",
        "*  The dataset that you are expected to use for training can be found [here](https://drive.google.com/file/d/1z7lwIml6UxsNpDIW3_mPPEb8SoaPC5Zg/view)\n",
        "\n",
        "*   Our model will have 1 hidden layer, like the one below (not our recommendation to use 256 in the hidden layer though, try various values out)\n",
        "\n",
        "**Feel free to redefine any function signatures below, just make sure the final cell remains the same.**\n",
        "\n",
        "<center>\n",
        "<img src=\"https://user-images.githubusercontent.com/81357954/166119893-4ca347b8-b1a4-40b8-9e0a-2e92b5f164ae.png\">\n",
        "</center>"
      ]
    },
    {
      "cell_type": "markdown",
      "metadata": {
        "id": "UyOAG55siwdI"
      },
      "source": [
        "## Import libraries here\n",
        "NumPy, Matplotlib, ...\n",
        "\n",
        "Also remember to initialize the seed for reproducibility of results"
      ]
    },
    {
      "cell_type": "code",
      "execution_count": 5,
      "metadata": {
        "id": "7iVUsRLxjAb9"
      },
      "outputs": [],
      "source": [
        "\n",
        "\n",
        "import numpy as np\n",
        "import pickle\n",
        "from matplotlib import pyplot as plt\n",
        "import random\n",
        "from sklearn.model_selection import train_test_split\n",
        "import math\n",
        "\n"
      ]
    },
    {
      "cell_type": "markdown",
      "metadata": {
        "id": "HaLDC4wN0eQs"
      },
      "source": [
        "## Load *Dataset*\n",
        "Load data from the given pickle file"
      ]
    },
    {
      "cell_type": "code",
      "execution_count": 1,
      "metadata": {
        "colab": {
          "base_uri": "https://localhost:8080/",
          "height": 125,
          "resources": {
            "http://localhost:8080/nbextensions/google.colab/files.js": {
              "data": "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",
              "headers": [
                [
                  "content-type",
                  "application/javascript"
                ]
              ],
              "ok": true,
              "status": 200,
              "status_text": "OK"
            }
          }
        },
        "id": "6qOjNSmx0iUn",
        "outputId": "b17ef174-56aa-4b85-8afc-8a953fc9f6e8"
      },
      "outputs": [
        {
          "output_type": "stream",
          "name": "stdout",
          "text": [
            "Mounted at /content/gdrive\n"
          ]
        },
        {
          "output_type": "display_data",
          "data": {
            "text/plain": [
              "<IPython.core.display.HTML object>"
            ],
            "text/html": [
              "\n",
              "     <input type=\"file\" id=\"files-6395a1cd-d1a6-4abe-926e-06200f879f61\" name=\"files[]\" multiple disabled\n",
              "        style=\"border:none\" />\n",
              "     <output id=\"result-6395a1cd-d1a6-4abe-926e-06200f879f61\">\n",
              "      Upload widget is only available when the cell has been executed in the\n",
              "      current browser session. Please rerun this cell to enable.\n",
              "      </output>\n",
              "      <script src=\"/nbextensions/google.colab/files.js\"></script> "
            ]
          },
          "metadata": {}
        },
        {
          "output_type": "stream",
          "name": "stdout",
          "text": [
            "Saving train_data.pkl to train_data.pkl\n",
            "User uploaded file \"train_data.pkl\" with length 47100223 bytes\n",
            "(60000, 784)\n"
          ]
        }
      ],
      "source": [
        "# mount Google Drive to access the dataset\n",
        "\n",
        "from google.colab import drive\n",
        "drive.mount('/content/gdrive')\n",
        "\n",
        "# load the data set\n",
        "\n",
        "from google.colab import files\n",
        "uploaded = files.upload()\n",
        "\n",
        "for fn in uploaded.keys():\n",
        "  print('User uploaded file \"{name}\" with length {length} bytes'.format(\n",
        "      name=fn, length=len(uploaded[fn])))\n",
        "\n",
        "import pandas as pd\n",
        "\n",
        "var=pd.read_pickle('train_data.pkl')\n",
        "Y_dataset=var['y']\n",
        "X_dataset=var['X']\n",
        "print(X_dataset.shape)\n",
        "\n",
        "# normalize\n",
        "\n",
        "from sklearn import preprocessing\n",
        "\n",
        "X_dataset = preprocessing.normalize(X_dataset)\n",
        "\n",
        "# Split into X_train, y_train, X_test, y_test\n",
        "# you can use stratified splitting from sklearn library\n",
        "\n",
        "from sklearn.model_selection import train_test_split\n",
        "\n",
        "X_train, X_test, y_train, y_test = train_test_split(X_dataset, Y_dataset, test_size=0.3, shuffle=False)\n"
      ]
    },
    {
      "cell_type": "code",
      "execution_count": null,
      "metadata": {
        "id": "LO2FFowQQx9d"
      },
      "outputs": [],
      "source": [
        "pip install sklearn"
      ]
    },
    {
      "cell_type": "code",
      "execution_count": null,
      "metadata": {
        "id": "H39H__roOaVa"
      },
      "outputs": [],
      "source": [
        "'''\n",
        "import pandas as pd\n",
        "from sklearn.model_selection import train_test_split\n",
        "\n",
        "var=pd.read_pickle('train_data.pkl')\n",
        "Y_dataset=var['y']\n",
        "X_dataset=var['X']\n",
        "\n",
        "X_train, X_test, y_train, y_test = train_test_split(X_dataset, Y_dataset, test_size=0.3, shuffle=False)\n",
        "print(\"X_train values :\")\n",
        "print(X_train)\n",
        "print(\"X_test values :\")\n",
        "print(X_test)\n",
        "print(\"y_train values :\")\n",
        "print(y_train)\n",
        "print(\"y_test values :\")\n",
        "print(y_test)\n",
        "'''\n",
        "\n"
      ]
    },
    {
      "cell_type": "code",
      "execution_count": 6,
      "metadata": {
        "colab": {
          "base_uri": "https://localhost:8080/",
          "height": 277
        },
        "id": "id77Oqc90kTf",
        "outputId": "642cd3a7-a013-46f0-f2cc-32776d3c4e57"
      },
      "outputs": [
        {
          "output_type": "display_data",
          "data": {
            "text/plain": [
              "<Figure size 432x288 with 16 Axes>"
            ],
            "image/png": "[encoded data removed]"
          },
          "metadata": {
            "needs_background": "light"
          }
        }
      ],
      "source": [
        "\n",
        "\n",
        "for i in range(16):\n",
        "    plt.subplot(4,4,i+1)\n",
        "    index=random.randrange(0,60000)\n",
        "    image = X_dataset[index]\n",
        "    image = np.array(image, dtype='float')\n",
        "    pixels = image.reshape((28, 28))\n",
        "    plt.imshow(pixels, cmap='gray')\n",
        "    plt.title(Y_dataset[index][0])\n",
        "    plt.axis('off')\n",
        "plt.subplots_adjust(left=0.1,\n",
        "                    bottom=0.1, \n",
        "                    right=0.9, \n",
        "                    top=0.9, \n",
        "                    wspace=0.4, \n",
        "                    hspace=0.4)\n",
        "plt.show()\n",
        "\n",
        "\n"
      ]
    },
    {
      "cell_type": "markdown",
      "metadata": {
        "id": "VFYnsPVLmsiW"
      },
      "source": [
        "## Building up parts of our classifier"
      ]
    },
    {
      "cell_type": "markdown",
      "metadata": {
        "id": "wAsGtgxUpGh2"
      },
      "source": [
        "**Activation functions**"
      ]
    },
    {
      "cell_type": "code",
      "execution_count": 7,
      "metadata": {
        "id": "6Di5Ck47msCQ"
      },
      "outputs": [],
      "source": [
        "from numpy.lib import npyio\n",
        "\n",
        "def relu(Z):\n",
        "    return np.maximum(0,Z)\n",
        "\n",
        "def softmax(z):\n",
        "    \n",
        "    reduced=z-np.max(z, axis=1,keepdims=True)\n",
        "    exponentiated=np.exp(reduced)\n",
        "    denominator=np.sum(exponentiated,axis=1,keepdims=True)\n",
        "    return exponentiated/denominator\n",
        "\n",
        "  "
      ]
    },
    {
      "cell_type": "markdown",
      "metadata": {
        "id": "G-q5HJHIocdn"
      },
      "source": [
        "**Notes about the Neural Network** \n",
        "*   Input size is (784,) because 28x28 = 784\n",
        "*   Output size will be 10, each element represeting probability of the image representing that digit\n",
        "*   Size of the hidden layer is a hyperparameter\n",
        "\n"
      ]
    },
    {
      "cell_type": "markdown",
      "metadata": {
        "id": "azTAuS5spFcz"
      },
      "source": [
        "**Initialize the layers weights**\n",
        "\n",
        "Generally, we follow the convention that weights are drawn from a standard normal distribution, while the bias vectors are initialized to zero. But you can try everything out :)"
      ]
    },
    {
      "cell_type": "code",
      "execution_count": 8,
      "metadata": {
        "id": "38E3_hVPocMm"
      },
      "outputs": [],
      "source": [
        "  def init_params(nn_architecture):\n",
        "      \"\"\"\n",
        "      ideally it should take the size of all the layers and \n",
        "      should return the initialized weights.\n",
        "      \"\"\"\n",
        "      number_of_layers = len(nn_architecture)\t\n",
        "      params_values = {}\n",
        "\n",
        "      for idx, layer in enumerate(nn_architecture):\t \t\t\t\t\t\t\t\t\n",
        "        layer_idx = idx + 1\n",
        "        layer_input_size = layer[\"input_dim\"]\n",
        "        layer_output_size = layer[\"output_dim\"]\n",
        "        \n",
        "        params_values['W' + str(layer_idx)] = np.random.randn( layer_input_size, layer_output_size) * 0.1\n",
        "        params_values['b' + str(layer_idx)] = np.random.randn(layer_output_size, 1) * 0.1\n",
        "      \n",
        "\n",
        "      print(params_values[\"W1\"].shape)\n",
        "        \n",
        "      return params_values\n",
        "    \n",
        "  "
      ]
    },
    {
      "cell_type": "code",
      "execution_count": null,
      "metadata": {
        "id": "yJppVug2S-QK"
      },
      "outputs": [],
      "source": [
        "# init_params([\n",
        "#     {\"input_dim\": 784, \"output_dim\": 256, \"activation\": \"relu\"},\n",
        "#     {\"input_dim\": 256, \"output_dim\": 10, \"activation\": \"relu\"},\n",
        "#     ])"
      ]
    },
    {
      "cell_type": "markdown",
      "metadata": {
        "id": "UlX8zy-7pv2n"
      },
      "source": [
        "**Forward Propagation**"
      ]
    },
    {
      "cell_type": "code",
      "execution_count": 17,
      "metadata": {
        "id": "TJ8lgrqjjASz"
      },
      "outputs": [],
      "source": [
        "def forward_propg(X, parameters):\n",
        "    \"\"\"\n",
        "    X: input data\n",
        "    returns: logits, output of each layer z1,z2,a1,a2\n",
        "    \"\"\"\n",
        "\n",
        "    W1 = parameters[\"W1\"]\n",
        "    b1 = parameters[\"b1\"]\n",
        "    W2 = parameters[\"W2\"]\n",
        "    b2 = parameters[\"b2\"]\n",
        "    \n",
        "    \n",
        "  \n",
        "    z1 = np.dot(X,W1) + b1.T\n",
        "    a1 = relu(z1)\n",
        "    z2 = np.dot(a1,W2) + b2.T\n",
        "    a2 = relu(z2)\n",
        "    a2 = softmax(a2)#probability bw 0 and 1-- logits\n",
        "    \n",
        "    \n",
        "    cache = [ W1, b1, W2, b2,a1,a2]\n",
        "    \n",
        "    return a2, cache\n",
        "    \n"
      ]
    },
    {
      "cell_type": "markdown",
      "metadata": {
        "id": "asZmbRVvuy5x"
      },
      "source": [
        "**Backward Propagation**\n",
        "\n",
        "\n",
        "You may use stochastic gradient descent or batch gradient descent here. Feel free to use any loss function."
      ]
    },
    {
      "cell_type": "code",
      "execution_count": 10,
      "metadata": {
        "id": "kAmrTAlimjUN"
      },
      "outputs": [],
      "source": [
        "    '''\n",
        "    def backward_propg(weights, X, y, cache,learning_rate=1e-5):\n",
        "    \"\"\"\n",
        "    should update the weights and return updated weights\n",
        "    \"\"\"\n",
        "\n",
        "    '''\n",
        "def back_propagate(W1, b1, W2, b2, cache,X,y,learning_rate):\n",
        "   \n",
        "    # Retrieve also A1 and A2 from dictionary \"cache\"\n",
        "    \n",
        "      a1 = cache[4]\n",
        "\n",
        "      a2 = cache[5]\n",
        "  \n",
        "    # Backward propagation: calculate dW1, db1, dW2, db2.\n",
        "      N = np.size(a2,0) \n",
        "      a2 = a2/N\n",
        "      for i in range(N):\n",
        "        a2[i][y[i]] -= 1/N\n",
        "      db2=np.sum(a2,axis=0,keepdims=True).T\n",
        "      dW2=a1.T@a2\n",
        "      da1= a2@W2.T\n",
        "      grad_relu= da1*(a1>0)\n",
        "      db1 = np.sum(grad_relu,axis=0,keepdims=True).T\n",
        "      dW1 = X.T@grad_relu\n",
        "    \n",
        "    \n",
        "    # Updating the parameters according to algorithm\n",
        "      W1 = W1 - learning_rate * dW1\n",
        "      b1 = b1 - learning_rate * db1\n",
        "      W2 = W2 - learning_rate * dW2\n",
        "      b2 = b2 - learning_rate * db2\n",
        "  \n",
        "      weights = {}\n",
        "      weights[\"W1\"]=W1\n",
        "      weights[\"b1\"]=b1\n",
        "      weights[\"W2\"]=W2\n",
        "      weights[\"b2\"]=b2\n",
        "\n",
        "      return weights\n",
        "    "
      ]
    },
    {
      "cell_type": "code",
      "execution_count": 11,
      "metadata": {
        "id": "cVDz0IGnvzpe"
      },
      "outputs": [],
      "source": [
        "def cost_func(Y_dataset,a2):\n",
        "    \"\"\"\n",
        "    calculate loss to check whether it is decreasing at each epoch or not\n",
        "    one can return this in backward propagation as well\n",
        "    \"\"\"\n",
        "     \n",
        "    cost=0\n",
        "    for i in range(np.size(a2,0)):\n",
        "        cost += -np.log(a2[i][Y_dataset[i]])/(np.size(a2,0))\n",
        "    \n",
        "    return cost\n",
        "    \n",
        "  \n",
        "    "
      ]
    },
    {
      "cell_type": "markdown",
      "metadata": {
        "id": "GUlhpcs9ylOX"
      },
      "source": [
        "\n",
        "## Integrate everything"
      ]
    },
    {
      "cell_type": "code",
      "execution_count": 16,
      "metadata": {
        "id": "SDGdT7PVmjRU"
      },
      "outputs": [],
      "source": [
        "def train(X, y, hidden_nodes, epochs=1000, learning_rate=1):\n",
        "    \"\"\"\n",
        "    hidden_nodes: no. of nodes in hidden layer\n",
        "\n",
        "    should return the updated optimize weights.\n",
        "    \"\"\"\n",
        "    # initialize weights.\n",
        "    nn_architecture = [\n",
        "    {\"input_dim\": 784, \"output_dim\": 256, \"activation\": \"relu\"},\n",
        "    {\"input_dim\": 256, \"output_dim\": 10, \"activation\": \"relu\"},\n",
        "    ]\n",
        "    weights = init_params(nn_architecture)\n",
        "    \n",
        "       \n",
        "    for i in range(epochs):\n",
        "        # forward propagation\n",
        "        Y_hat, cashe = forward_propg(X,weights)\n",
        "\n",
        "        # print cost at every 100 or so iterations\n",
        "        \n",
        "\n",
        "\n",
        "        if(i%100 == 0):\n",
        "          print((\"cost after {} iterations is: \".format(i),cost_func(y,Y_hat)))\n",
        "        \n",
        "        # backward propagation\n",
        "        weights = back_propagate(weights[\"W1\"],weights[\"b1\"],weights[\"W2\"],weights[\"b2\"], cashe,X,y,learning_rate )\n",
        "\n",
        "  \n",
        "        \n",
        "    return weights\n",
        "        "
      ]
    },
    {
      "cell_type": "code",
      "execution_count": 13,
      "metadata": {
        "id": "9XBinWpPmjOS"
      },
      "outputs": [],
      "source": [
        "from re import M\n",
        "def predict(X, updated_weights):\n",
        "    \"\"\"\n",
        "    returns the prediction in [0,9] for each element in X\n",
        "    \"\"\"\n",
        "    m = X.shape[0]\n",
        "    Y_prediction = np.zeros((m,1))\n",
        "    output=forward_propg(X,updated_weights)[0]\n",
        "    max_elements=np.max(output,axis=1,keepdims=True)\n",
        "\n",
        "    for i in range(output.shape[0]):\n",
        "      for j in range(output.shape[1]):\n",
        "          if output[i][j]==max_elements[i]:\n",
        "               Y_prediction[i]=j\n",
        "               break\n",
        "    \n",
        "\n",
        "    return Y_prediction"
      ]
    },
    {
      "cell_type": "code",
      "execution_count": 14,
      "metadata": {
        "id": "CtKSZWw71wc4"
      },
      "outputs": [],
      "source": [
        "def accuracy(predictions, y):\n",
        "    \"\"\"\n",
        "    prints % accuracy\n",
        "    \"\"\"\n",
        "    return np.mean(predictions==y)*100"
      ]
    },
    {
      "cell_type": "markdown",
      "metadata": {
        "id": "fGVOZ8yg0VrV"
      },
      "source": [
        "### Save as pickle"
      ]
    },
    {
      "cell_type": "code",
      "execution_count": null,
      "metadata": {
        "colab": {
          "base_uri": "https://localhost:8080/",
          "height": 1000
        },
        "id": "_lvDVwmxmjKX",
        "outputId": "93192f7a-62be-4cfc-8821-e3b77882680f"
      },
      "outputs": [
        {
          "name": "stdout",
          "output_type": "stream",
          "text": [
            "(784, 256)\n",
            "('cost after 0 iterations is: ', array([2.31357119]))\n",
            "('cost after 10 iterations is: ', array([2.01238914]))\n",
            "('cost after 20 iterations is: ', array([1.65246071]))\n",
            "('cost after 30 iterations is: ', array([1.27396596]))\n",
            "('cost after 40 iterations is: ', array([0.99180183]))\n",
            "('cost after 50 iterations is: ', array([0.8154863]))\n",
            "('cost after 60 iterations is: ', array([0.70435908]))\n",
            "('cost after 70 iterations is: ', array([0.62962969]))\n",
            "('cost after 80 iterations is: ', array([0.5761909]))\n",
            "('cost after 90 iterations is: ', array([0.53610727]))\n",
            "('cost after 100 iterations is: ', array([0.5049558]))\n",
            "('cost after 110 iterations is: ', array([0.48006589]))\n",
            "('cost after 120 iterations is: ', array([0.45974287]))\n",
            "('cost after 130 iterations is: ', array([0.44284682]))\n",
            "('cost after 140 iterations is: ', array([0.42857527]))\n",
            "('cost after 150 iterations is: ', array([0.41635599]))\n",
            "('cost after 160 iterations is: ', array([0.40577394]))\n",
            "('cost after 170 iterations is: ', array([0.39651268]))\n",
            "('cost after 180 iterations is: ', array([0.38833088]))\n",
            "('cost after 190 iterations is: ', array([0.38104043]))\n",
            "('cost after 200 iterations is: ', array([0.37449286]))\n",
            "('cost after 210 iterations is: ', array([0.36856671]))\n",
            "('cost after 220 iterations is: ', array([0.36317078]))\n",
            "('cost after 230 iterations is: ', array([0.35822444]))\n",
            "('cost after 240 iterations is: ', array([0.35366961]))\n",
            "('cost after 250 iterations is: ', array([0.34945799]))\n",
            "('cost after 260 iterations is: ', array([0.34555162]))\n",
            "('cost after 270 iterations is: ', array([0.3419012]))\n",
            "('cost after 280 iterations is: ', array([0.33848668]))\n",
            "('cost after 290 iterations is: ', array([0.33528521]))\n",
            "('cost after 300 iterations is: ', array([0.33227163]))\n",
            "('cost after 310 iterations is: ', array([0.32942361]))\n",
            "('cost after 320 iterations is: ', array([0.32672483]))\n",
            "('cost after 330 iterations is: ', array([0.32416578]))\n",
            "('cost after 340 iterations is: ', array([0.32172933]))\n",
            "('cost after 350 iterations is: ', array([0.31940469]))\n",
            "('cost after 360 iterations is: ', array([0.3171822]))\n",
            "('cost after 370 iterations is: ', array([0.31505152]))\n",
            "('cost after 380 iterations is: ', array([0.31300371]))\n",
            "('cost after 390 iterations is: ', array([0.31103323]))\n",
            "('cost after 400 iterations is: ', array([0.30913502]))\n",
            "('cost after 410 iterations is: ', array([0.30730547]))\n",
            "('cost after 420 iterations is: ', array([0.30553686]))\n",
            "('cost after 430 iterations is: ', array([0.30382565]))\n",
            "('cost after 440 iterations is: ', array([0.30216246]))\n",
            "('cost after 450 iterations is: ', array([0.30054796]))\n",
            "('cost after 460 iterations is: ', array([0.29897484]))\n",
            "('cost after 470 iterations is: ', array([0.29744582]))\n",
            "('cost after 480 iterations is: ', array([0.29595812]))\n",
            "('cost after 490 iterations is: ', array([0.29450117]))\n"
          ]
        },
        {
          "ename": "KeyboardInterrupt",
          "evalue": "ignored",
          "output_type": "error",
          "traceback": [
            "\u001b[0;31m---------------------------------------------------------------------------\u001b[0m",
            "\u001b[0;31mKeyboardInterrupt\u001b[0m                         Traceback (most recent call last)",
            "\u001b[0;32m<ipython-input-106-a890ec3b9675>\u001b[0m in \u001b[0;36m<module>\u001b[0;34m()\u001b[0m\n\u001b[1;32m      5\u001b[0m \u001b[0mroll_num\u001b[0m \u001b[0;34m=\u001b[0m \u001b[0;34m\"210050007\"\u001b[0m \u001b[0;31m# enter ldap\u001b[0m\u001b[0;34m\u001b[0m\u001b[0;34m\u001b[0m\u001b[0m\n\u001b[1;32m      6\u001b[0m \u001b[0mhidden_dim\u001b[0m \u001b[0;34m=\u001b[0m \u001b[0;36m256\u001b[0m \u001b[0;31m# replace with your own hidden dimension\u001b[0m\u001b[0;34m\u001b[0m\u001b[0;34m\u001b[0m\u001b[0m\n\u001b[0;32m----> 7\u001b[0;31m \u001b[0mweights\u001b[0m \u001b[0;34m=\u001b[0m \u001b[0mtrain\u001b[0m\u001b[0;34m(\u001b[0m\u001b[0mX_train\u001b[0m\u001b[0;34m,\u001b[0m\u001b[0my_train\u001b[0m\u001b[0;34m,\u001b[0m\u001b[0;36m256\u001b[0m\u001b[0;34m,\u001b[0m\u001b[0mlearning_rate\u001b[0m\u001b[0;34m=\u001b[0m\u001b[0;36m1\u001b[0m\u001b[0;34m)\u001b[0m\u001b[0;34m\u001b[0m\u001b[0;34m\u001b[0m\u001b[0m\n\u001b[0m\u001b[1;32m      8\u001b[0m model_dict = {\n\u001b[1;32m      9\u001b[0m     \u001b[0;34m'z'\u001b[0m\u001b[0;34m:\u001b[0m \u001b[0mhidden_dim\u001b[0m\u001b[0;34m,\u001b[0m \u001b[0;31m# hidden dimension of your model\u001b[0m\u001b[0;34m\u001b[0m\u001b[0;34m\u001b[0m\u001b[0m\n",
            "\u001b[0;32m<ipython-input-104-5322f30e4bfa>\u001b[0m in \u001b[0;36mtrain\u001b[0;34m(X, y, hidden_nodes, epochs, learning_rate)\u001b[0m\n\u001b[1;32m     15\u001b[0m     \u001b[0;32mfor\u001b[0m \u001b[0mi\u001b[0m \u001b[0;32min\u001b[0m \u001b[0mrange\u001b[0m\u001b[0;34m(\u001b[0m\u001b[0mepochs\u001b[0m\u001b[0;34m)\u001b[0m\u001b[0;34m:\u001b[0m\u001b[0;34m\u001b[0m\u001b[0;34m\u001b[0m\u001b[0m\n\u001b[1;32m     16\u001b[0m         \u001b[0;31m# forward propagation\u001b[0m\u001b[0;34m\u001b[0m\u001b[0;34m\u001b[0m\u001b[0;34m\u001b[0m\u001b[0m\n\u001b[0;32m---> 17\u001b[0;31m         \u001b[0mY_hat\u001b[0m\u001b[0;34m,\u001b[0m \u001b[0mcashe\u001b[0m \u001b[0;34m=\u001b[0m \u001b[0mforward_propg\u001b[0m\u001b[0;34m(\u001b[0m\u001b[0mX\u001b[0m\u001b[0;34m,\u001b[0m\u001b[0mweights\u001b[0m\u001b[0;34m,\u001b[0m\u001b[0mnn_architecture\u001b[0m\u001b[0;34m)\u001b[0m\u001b[0;34m\u001b[0m\u001b[0;34m\u001b[0m\u001b[0m\n\u001b[0m\u001b[1;32m     18\u001b[0m \u001b[0;34m\u001b[0m\u001b[0m\n\u001b[1;32m     19\u001b[0m         \u001b[0;31m# print cost at every 100 or so iterations\u001b[0m\u001b[0;34m\u001b[0m\u001b[0;34m\u001b[0m\u001b[0;34m\u001b[0m\u001b[0m\n",
            "\u001b[0;32m<ipython-input-89-802e092cb32c>\u001b[0m in \u001b[0;36mforward_propg\u001b[0;34m(X, parameters, nn_architecture)\u001b[0m\n\u001b[1;32m     12\u001b[0m \u001b[0;34m\u001b[0m\u001b[0m\n\u001b[1;32m     13\u001b[0m \u001b[0;34m\u001b[0m\u001b[0m\n\u001b[0;32m---> 14\u001b[0;31m     \u001b[0mz1\u001b[0m \u001b[0;34m=\u001b[0m \u001b[0mnp\u001b[0m\u001b[0;34m.\u001b[0m\u001b[0mdot\u001b[0m\u001b[0;34m(\u001b[0m\u001b[0mX\u001b[0m\u001b[0;34m,\u001b[0m\u001b[0mW1\u001b[0m\u001b[0;34m)\u001b[0m \u001b[0;34m+\u001b[0m \u001b[0mb1\u001b[0m\u001b[0;34m.\u001b[0m\u001b[0mT\u001b[0m\u001b[0;34m\u001b[0m\u001b[0;34m\u001b[0m\u001b[0m\n\u001b[0m\u001b[1;32m     15\u001b[0m     \u001b[0ma1\u001b[0m \u001b[0;34m=\u001b[0m \u001b[0mrelu\u001b[0m\u001b[0;34m(\u001b[0m\u001b[0mz1\u001b[0m\u001b[0;34m)\u001b[0m\u001b[0;34m\u001b[0m\u001b[0;34m\u001b[0m\u001b[0m\n\u001b[1;32m     16\u001b[0m     \u001b[0mz2\u001b[0m \u001b[0;34m=\u001b[0m \u001b[0mnp\u001b[0m\u001b[0;34m.\u001b[0m\u001b[0mdot\u001b[0m\u001b[0;34m(\u001b[0m\u001b[0ma1\u001b[0m\u001b[0;34m,\u001b[0m\u001b[0mW2\u001b[0m\u001b[0;34m)\u001b[0m \u001b[0;34m+\u001b[0m \u001b[0mb2\u001b[0m\u001b[0;34m.\u001b[0m\u001b[0mT\u001b[0m\u001b[0;34m\u001b[0m\u001b[0;34m\u001b[0m\u001b[0m\n",
            "\u001b[0;32m<__array_function__ internals>\u001b[0m in \u001b[0;36mdot\u001b[0;34m(*args, **kwargs)\u001b[0m\n",
            "\u001b[0;31mKeyboardInterrupt\u001b[0m: "
          ]
        }
      ],
      "source": [
        "import pickle\n",
        "import random\n",
        "from google.colab import files\n",
        "\n",
        "roll_num = \"210050007\" # enter ldap\n",
        "hidden_dim = 256 # replace with your own hidden dimension\n",
        "weights = train(X_train,y_train,256,learning_rate=1)\n",
        "model_dict = {\n",
        "    'z': hidden_dim, # hidden dimension of your model\n",
        "    'layer_0_wt': weights[0],# layer 0 weight (784, z)\n",
        "    'layer_0_bias': weights[1] , # layer 0 bias (z, 1)\n",
        "    'layer_1_wt': weights[2], # layer 1 weight (z, 10)\n",
        "    'layer_1_bias': weights[3] # layer 1 bias (10, 1)\n",
        "}\n",
        "\n",
        "\n",
        "\n",
        "with open(f'model_{roll_num}.pkl', 'wb') as f:\n",
        "    pickle.dump(model_dict, f)\n",
        "    files.download(f'model_{roll_num}.pkl') # download the file from the Colab session for submission"
      ]
    },
    {
      "cell_type": "code",
      "execution_count": 18,
      "metadata": {
        "colab": {
          "base_uri": "https://localhost:8080/"
        },
        "id": "VKXtuhgFAX7f",
        "outputId": "b1d6c4d4-ae2c-4c40-99db-2666cd5e012e"
      },
      "outputs": [
        {
          "output_type": "stream",
          "name": "stdout",
          "text": [
            "(784, 256)\n",
            "('cost after 0 iterations is: ', array([2.30346529]))\n",
            "('cost after 100 iterations is: ', array([0.4928307]))\n",
            "('cost after 200 iterations is: ', array([0.37200008]))\n",
            "('cost after 300 iterations is: ', array([0.33162074]))\n",
            "('cost after 400 iterations is: ', array([0.30859048]))\n",
            "('cost after 500 iterations is: ', array([0.29240052]))\n",
            "('cost after 600 iterations is: ', array([0.27957343]))\n",
            "('cost after 700 iterations is: ', array([0.26837033]))\n",
            "('cost after 800 iterations is: ', array([0.25816322]))\n",
            "('cost after 900 iterations is: ', array([0.24855659]))\n",
            "92.56666666666666\n"
          ]
        }
      ],
      "source": [
        "\n",
        "\n",
        "weights=train(X_train,y_train,256,learning_rate=1)\n",
        "print(accuracy(predict(X_test,weights),y_test))\n",
        "\n"
      ]
    }
  ],
  "metadata": {
    "colab": {
      "collapsed_sections": [],
      "name": "assign_1.ipynb",
      "provenance": []
    },
    "kernelspec": {
      "display_name": "Python 3",
      "name": "python3"
    },
    "language_info": {
      "name": "python"
    }
  },
  "nbformat": 4,
  "nbformat_minor": 0
}
