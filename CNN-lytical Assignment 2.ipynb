{
  "nbformat": 4,
  "nbformat_minor": 0,
  "metadata": {
    "colab": {
      "name": "MNIST.ipynb",
      "provenance": [],
      "collapsed_sections": []
    },
    "kernelspec": {
      "name": "python3",
      "display_name": "Python 3"
    },
    "language_info": {
      "name": "python"
    }
  },
  "cells": [
    {
      "cell_type": "code",
      "execution_count": null,
      "metadata": {
        "colab": {
          "base_uri": "https://localhost:8080/"
        },
        "id": "3wc4pFCmGVZw",
        "outputId": "8d681533-faaa-41b9-fc9c-d2f9814a84cf"
      },
      "outputs": [
        {
          "output_type": "stream",
          "name": "stdout",
          "text": [
            "Looking in indexes: https://pypi.org/simple, https://us-python.pkg.dev/colab-wheels/public/simple/\n",
            "Looking in links: https://download.pytorch.org/whl/torch_stable.html\n",
            "Requirement already satisfied: torch==1.9.0+cu102 in /usr/local/lib/python3.7/dist-packages (1.9.0+cu102)\n",
            "Requirement already satisfied: torchvision==0.10.0+cu102 in /usr/local/lib/python3.7/dist-packages (0.10.0+cu102)\n",
            "Requirement already satisfied: torchaudio===0.9.0 in /usr/local/lib/python3.7/dist-packages (0.9.0)\n",
            "Requirement already satisfied: typing-extensions in /usr/local/lib/python3.7/dist-packages (from torch==1.9.0+cu102) (4.1.1)\n",
            "Requirement already satisfied: pillow>=5.3.0 in /usr/local/lib/python3.7/dist-packages (from torchvision==0.10.0+cu102) (7.1.2)\n",
            "Requirement already satisfied: numpy in /usr/local/lib/python3.7/dist-packages (from torchvision==0.10.0+cu102) (1.21.6)\n"
          ]
        }
      ],
      "source": [
        "!pip3 install torch==1.9.0+cu102 torchvision==0.10.0+cu102 torchaudio===0.9.0 -f https://download.pytorch.org/whl/torch_stable.html"
      ]
    },
    {
      "cell_type": "code",
      "source": [
        "import torch\n",
        "import torchvision.datasets as dts \n",
        "import torchvision.transforms as trnsfrms\n",
        "import torch.nn as nn\n",
        "import matplotlib.pyplot as plot\n",
        "import numpy as np"
      ],
      "metadata": {
        "id": "wkjy1gXtGaAR"
      },
      "execution_count": null,
      "outputs": []
    },
    {
      "cell_type": "code",
      "source": [
        "from google.colab import drive\n",
        "drive.mount('/content/drive')\n",
        "\n",
        "import pickle\n",
        "\n",
        "DATA_PATH = \"/content/drive/My Drive\"\n",
        "infile = open(DATA_PATH+'/train_data.pkl','rb')\n",
        "best_model2 = pickle.load(infile)\n",
        "\n",
        "import pandas as pd\n",
        "\n",
        "var=pd.read_pickle('/content/drive/My Drive/train_data.pkl')\n",
        "Y = var['y']\n",
        "X = var['X']\n",
        "print(X.size)\n",
        "\n",
        "from sklearn import preprocessing\n",
        "\n",
        "from sklearn.model_selection import train_test_split\n",
        "StandDev = np.std(X,axis = 0,keepdims = True)\n",
        "Mean= np.mean(X,axis = 0,keepdims=True)\n",
        "Normalized_X = (X-Mean)/(StandDev + 1e-7)\n",
        "\n",
        "testsize = 0.5\n",
        "X_train, X_test, y_train, y_test = train_test_split(Normalized_X, Y, test_size = testsize,random_state = 42)"
      ],
      "metadata": {
        "colab": {
          "base_uri": "https://localhost:8080/"
        },
        "id": "uPZiR4UuQIw3",
        "outputId": "0e5564fd-4708-48d7-845f-8cd1afbffb99"
      },
      "execution_count": null,
      "outputs": [
        {
          "output_type": "stream",
          "name": "stdout",
          "text": [
            "Drive already mounted at /content/drive; to attempt to forcibly remount, call drive.mount(\"/content/drive\", force_remount=True).\n",
            "47040000\n",
            "(30000, 784)\n"
          ]
        }
      ]
    },
    {
      "cell_type": "code",
      "source": [
        "print(X_train.shape, y_train.shape)\n",
        "print(X_test.shape, y_test.shape)"
      ],
      "metadata": {
        "colab": {
          "base_uri": "https://localhost:8080/"
        },
        "id": "-Drr_gDQQ2RV",
        "outputId": "3677394b-47f3-47bb-e54a-f61b89f4dee2"
      },
      "execution_count": null,
      "outputs": [
        {
          "output_type": "stream",
          "name": "stdout",
          "text": [
            "(30000, 784) (30000, 1)\n",
            "(30000, 784) (30000, 1)\n"
          ]
        }
      ]
    },
    {
      "cell_type": "code",
      "source": [
        "import matplotlib.pyplot as plt\n",
        "import random\n",
        "for i in range(16):\n",
        "    plt.subplot(4,4,i+1)\n",
        "    index=random.randrange(0,60000)\n",
        "    image = X[index]\n",
        "    image = np.array(image, dtype='float')\n",
        "    pixels = image.reshape((28, 28))\n",
        "    plt.imshow(pixels, cmap='gray')\n",
        "    plt.title(Y[index][0])\n",
        "    plt.axis('off')\n",
        "plt.subplots_adjust(left=0.1,\n",
        "                    bottom=0.1, \n",
        "                    right=0.9, \n",
        "                    top=0.9, \n",
        "                    wspace=0.4, \n",
        "                    hspace=0.4)\n",
        "plt.show()"
      ],
      "metadata": {
        "colab": {
          "base_uri": "https://localhost:8080/",
          "height": 277
        },
        "id": "MQQl6dSTQ_r_",
        "outputId": "7d27d93c-8ae2-407f-c8b9-7a89d4cbce9a"
      },
      "execution_count": null,
      "outputs": [
        {
          "output_type": "display_data",
          "data": {
            "text/plain": [
              "<Figure size 432x288 with 16 Axes>"
            ],
            "image/png": "[encoded data removed]"
          },
          "metadata": {
            "needs_background": "light"
          }
        }
      ]
    },
    {
      "cell_type": "code",
      "source": [
        "import os\n",
        "import pandas as pd\n",
        "from torchvision.io import read_image\n",
        "from torch.utils.data import Dataset\n",
        "\n",
        "class MNIST_Dataset(Dataset):\n",
        "  def __init__(self, x, y):\n",
        "    self.images = x\n",
        "    self.labels = y\n",
        "\n",
        "  def __len__(self):\n",
        "    return len(self.labels)\n",
        "  \n",
        "  def __getitem__(self, idx):\n",
        "    return self.images[idx], self.labels[idx]"
      ],
      "metadata": {
        "id": "Rou_1gqwQ_mE"
      },
      "execution_count": null,
      "outputs": []
    },
    {
      "cell_type": "code",
      "source": [
        "from torch.utils.data import DataLoader\n",
        "\n",
        "train_dataset = MNIST_Dataset(X_train, y_train)\n",
        "test_dataset = MNIST_Dataset(X_test, y_test)\n",
        "\n",
        "train_dataloader = DataLoader(train_dataset, batch_size = 64, shuffle = True)\n",
        "test_dataloader = DataLoader(test_dataset, batch_size =64, shuffle = True)"
      ],
      "metadata": {
        "id": "iTjd2ihNSBWv"
      },
      "execution_count": null,
      "outputs": []
    },
    {
      "cell_type": "code",
      "source": [
        "class Net(nn.Module):\n",
        "  def __init__(self):\n",
        "    super(Net,self).__init__()\n",
        "    self.linear1 = nn.Linear(28*28, 100) \n",
        "    self.linear2 = nn.Linear(100, 100) \n",
        "    self.final = nn.Linear(100, 10)\n",
        "    self.relu = nn.ReLU()\n",
        "\n",
        "  def forward(self, img): #convert + flatten\n",
        "    x = img.view(-1, 28*28)\n",
        "    x = self.relu(self.linear1(x))\n",
        "    x = self.relu(self.linear2(x))\n",
        "    x = self.final(x)\n",
        "    return x"
      ],
      "metadata": {
        "id": "3qhLk5mVSq1A"
      },
      "execution_count": null,
      "outputs": []
    },
    {
      "cell_type": "code",
      "source": [
        "def get_device():\n",
        "    if torch.cuda.is_available():\n",
        "        device = 'cuda:0'\n",
        "    else:\n",
        "        device = 'cpu'\n",
        "    return device\n",
        "device = get_device()"
      ],
      "metadata": {
        "id": "X4IkjgI0Tae2"
      },
      "execution_count": null,
      "outputs": []
    },
    {
      "cell_type": "code",
      "source": [
        "print(device)"
      ],
      "metadata": {
        "id": "EnnkoKmvd6Is",
        "outputId": "aa7f6731-21dc-4062-8bca-807fcf7b367e",
        "colab": {
          "base_uri": "https://localhost:8080/"
        }
      },
      "execution_count": null,
      "outputs": [
        {
          "output_type": "stream",
          "name": "stdout",
          "text": [
            "cpu\n"
          ]
        }
      ]
    },
    {
      "cell_type": "code",
      "source": [
        "model = Net().to(device)\n",
        "print(model)\n",
        "criterion = nn.CrossEntropyLoss()\n",
        "optimizer = torch.optim.Adam(model.parameters(), lr = 0.0001)"
      ],
      "metadata": {
        "colab": {
          "base_uri": "https://localhost:8080/"
        },
        "id": "C6IDG5BXTKK5",
        "outputId": "c3b149f7-7204-4edf-ab42-68e4eaa83dcc"
      },
      "execution_count": null,
      "outputs": [
        {
          "output_type": "stream",
          "name": "stdout",
          "text": [
            "Net(\n",
            "  (linear1): Linear(in_features=784, out_features=100, bias=True)\n",
            "  (linear2): Linear(in_features=100, out_features=100, bias=True)\n",
            "  (final): Linear(in_features=100, out_features=10, bias=True)\n",
            "  (relu): ReLU()\n",
            ")\n"
          ]
        }
      ]
    },
    {
      "cell_type": "code",
      "source": [
        "def train(model, criterion, optimizer, train_dataloader, epochs):\n",
        "  for epoch in range(epochs):\n",
        "    running_loss = 0\n",
        "    for data in train_dataloader:\n",
        "      inputs, labels = data[0].to(device), data[1].to(device)\n",
        "      optimizer.zero_grad()\n",
        "      outputs = model(inputs.float())\n",
        "      labels = torch.flatten(labels)\n",
        "      loss = criterion(outputs, labels.type(torch.LongTensor))\n",
        "      loss.backward()\n",
        "      optimizer.step()\n",
        "\n",
        "      running_loss += loss.item()\n",
        "    \n",
        "    print('[Epoch %d] loss: %.3f' % (epoch + 1, running_loss/len(train_dataloader)))\n",
        "  \n",
        "  print(\"training complete\")"
      ],
      "metadata": {
        "id": "u-wgyjUaTOUr"
      },
      "execution_count": null,
      "outputs": []
    },
    {
      "cell_type": "code",
      "source": [
        "train(model,criterion,optimizer,train_dataloader,20)"
      ],
      "metadata": {
        "colab": {
          "base_uri": "https://localhost:8080/"
        },
        "id": "s-RK5J7WWOzK",
        "outputId": "ea7309a0-81e1-4bc1-be52-4c0810cd481f"
      },
      "execution_count": null,
      "outputs": [
        {
          "output_type": "stream",
          "name": "stdout",
          "text": [
            "[Epoch 1] loss: 1.078\n",
            "[Epoch 2] loss: 0.315\n",
            "[Epoch 3] loss: 0.234\n",
            "[Epoch 4] loss: 0.196\n",
            "[Epoch 5] loss: 0.170\n",
            "[Epoch 6] loss: 0.149\n",
            "[Epoch 7] loss: 0.132\n",
            "[Epoch 8] loss: 0.119\n",
            "[Epoch 9] loss: 0.106\n",
            "[Epoch 10] loss: 0.096\n",
            "[Epoch 11] loss: 0.087\n",
            "[Epoch 12] loss: 0.078\n",
            "[Epoch 13] loss: 0.071\n",
            "[Epoch 14] loss: 0.064\n",
            "[Epoch 15] loss: 0.058\n",
            "[Epoch 16] loss: 0.052\n",
            "[Epoch 17] loss: 0.047\n",
            "[Epoch 18] loss: 0.043\n",
            "[Epoch 19] loss: 0.038\n",
            "[Epoch 20] loss: 0.034\n",
            "training complete\n"
          ]
        }
      ]
    },
    {
      "cell_type": "code",
      "source": [
        "def test(model, test_dataloader):\n",
        "  correct = 0\n",
        "  total = 0\n",
        "  with torch.no_grad():\n",
        "    for data in test_dataloader:\n",
        "      inputs, labels = data[0].to(device), data[1].to(device)\n",
        "      labels = torch.flatten(labels).type(torch.LongTensor)\n",
        "      outputs = model(inputs.float())\n",
        "      _, predicted = torch.max(outputs.data,1)\n",
        "      total += labels.size(0)\n",
        "      correct += (predicted == labels).sum().item()\n",
        "      #model.eval()\n",
        "  \n",
        "  print('Accuracy of the network on test images: %0.3f %%' % (100 * correct / total))"
      ],
      "metadata": {
        "id": "w8dik3UfVQNr"
      },
      "execution_count": null,
      "outputs": []
    },
    {
      "cell_type": "code",
      "source": [
        "test(model, test_dataloader)"
      ],
      "metadata": {
        "colab": {
          "base_uri": "https://localhost:8080/"
        },
        "id": "iHL3LEp5ajXk",
        "outputId": "f6fadb99-3e75-4fde-e02f-afb7fa1b25f0"
      },
      "execution_count": null,
      "outputs": [
        {
          "output_type": "stream",
          "name": "stdout",
          "text": [
            "Accuracy of the network on test images: 96.337 %\n"
          ]
        }
      ]
    }
  ]
}